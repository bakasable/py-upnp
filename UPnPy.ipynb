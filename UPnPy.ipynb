{
 "cells": [
  {
   "cell_type": "code",
   "execution_count": 21,
   "metadata": {},
   "outputs": [
    {
     "data": {
      "text/html": [
       "<iframe src=//www.slideshare.net/slideshow/embed_code/key/dQ0Bh8mNKQ01Ht width=595 height=485></iframe>"
      ],
      "text/plain": [
       "<IPython.core.display.HTML object>"
      ]
     },
     "execution_count": 21,
     "metadata": {},
     "output_type": "execute_result"
    }
   ],
   "source": [
    "import IPython\n",
    "url = '//www.slideshare.net/slideshow/embed_code/key/dQ0Bh8mNKQ01Ht'\n",
    "iframe = '<iframe src=' + url + ' width=595 height=485></iframe>'\n",
    "IPython.display.HTML(iframe)"
   ]
  },
  {
   "cell_type": "markdown",
   "metadata": {},
   "source": [
    "# Intro"
   ]
  },
  {
   "cell_type": "markdown",
   "metadata": {},
   "source": [
    "Bsed on exploring UPnP with Python from <a href=\"https://www.electricmonk.nl/log/2016/07/05/exploring-upnp-with-python/\">Ferry Boender blog</a>\n",
    "\n",
    "<p>UPnP uses a variety of different protocols to accomplish its goals:</p>\n",
    "<ul>\n",
    "<li><b>SSDP</b>: <em>Simple Service Discovery Protocol</em>, for discovering UPnP devices on the local network.</li>\n",
    "<li><b>SCPD</b>: <em>Service Control Point Definition</em>, for defining the actions offered by the various services.</li>\n",
    "<li><b>SOAP</b>: <em>Simple&nbsp;Object Access Protocol</em>, for actually calling actions.</li>\n",
    "</ul>\n",
    "<img alt=\"\" src=\"https://www.electricmonk.nl/log/wp-content/uploads/2012/10/upnp_overview.png\" title=\"upnp_overview\">"
   ]
  },
  {
   "cell_type": "markdown",
   "metadata": {},
   "source": [
    "# Discovery : SSDP"
   ]
  },
  {
   "cell_type": "code",
   "execution_count": 30,
   "metadata": {
    "collapsed": true
   },
   "outputs": [],
   "source": [
    "import ssdp"
   ]
  },
  {
   "cell_type": "code",
   "execution_count": 31,
   "metadata": {},
   "outputs": [],
   "source": [
    "devices = ssdp.discover(\"upnp:rootdevice\")\n",
    "assetUPnP = devices[8]"
   ]
  },
  {
   "cell_type": "code",
   "execution_count": 32,
   "metadata": {},
   "outputs": [
    {
     "data": {
      "text/plain": [
       "<SSDPResponse(http://192.168.0.1:49000/igddesc.xml, upnp:rootdevice, uuid:75802409-bccb-40e7-8e6c-E0286D0372B3::upnp:rootdevice)>"
      ]
     },
     "execution_count": 32,
     "metadata": {},
     "output_type": "execute_result"
    }
   ],
   "source": [
    "assetUPnP"
   ]
  },
  {
   "cell_type": "code",
   "execution_count": 33,
   "metadata": {},
   "outputs": [
    {
     "data": {
      "text/plain": [
       "'http://192.168.0.1:49000/igddesc.xml'"
      ]
     },
     "execution_count": 33,
     "metadata": {},
     "output_type": "execute_result"
    }
   ],
   "source": [
    "assetUPnP.location"
   ]
  },
  {
   "cell_type": "markdown",
   "metadata": {},
   "source": [
    "# Description : SCPD"
   ]
  },
  {
   "cell_type": "markdown",
   "metadata": {},
   "source": [
    "## SCPD, Phase I: Fetching and parsing the root SCPD file"
   ]
  },
  {
   "cell_type": "code",
   "execution_count": 34,
   "metadata": {},
   "outputs": [
    {
     "name": "stdout",
     "output_type": "stream",
     "text": [
      "urn:schemas-any-com:service:Any:1:\n",
      "  SCPD_URL: http://192.168.0.1:49000/any.xml\n",
      "  CTRL_URL: http://192.168.0.1:49000/igdupnp/control/any\n",
      "\n",
      "urn:schemas-upnp-org:service:WANCommonInterfaceConfig:1:\n",
      "  SCPD_URL: http://192.168.0.1:49000/igdicfgSCPD.xml\n",
      "  CTRL_URL: http://192.168.0.1:49000/igdupnp/control/WANCommonIFC1\n",
      "\n",
      "urn:schemas-upnp-org:service:WANDSLLinkConfig:1:\n",
      "  SCPD_URL: http://192.168.0.1:49000/igddslSCPD.xml\n",
      "  CTRL_URL: http://192.168.0.1:49000/igdupnp/control/WANDSLLinkC1\n",
      "\n",
      "urn:schemas-upnp-org:service:WANIPConnection:1:\n",
      "  SCPD_URL: http://192.168.0.1:49000/igdconnSCPD.xml\n",
      "  CTRL_URL: http://192.168.0.1:49000/igdupnp/control/WANIPConn1\n",
      "\n",
      "urn:schemas-upnp-org:service:WANIPv6FirewallControl:1:\n",
      "  SCPD_URL: http://192.168.0.1:49000/igd2ipv6fwcSCPD.xml\n",
      "  CTRL_URL: http://192.168.0.1:49000/igd2upnp/control/WANIPv6Firewall1\n",
      "\n"
     ]
    }
   ],
   "source": [
    "from urllib.request import urlopen\n",
    "from urllib.parse import urlparse\n",
    "from xml.dom import minidom\n",
    "\n",
    "def XMLGetNodeText(node):\n",
    "    \"\"\"\n",
    "    Return text contents of an XML node.\n",
    "    \"\"\"\n",
    "    text = []\n",
    "    for childNode in node.childNodes:\n",
    "        if childNode.nodeType == node.TEXT_NODE:\n",
    "            text.append(childNode.data)\n",
    "    return(''.join(text))\n",
    "\n",
    "location = assetUPnP.location\n",
    "\n",
    "# Fetch SCPD\n",
    "response = urlopen(location)\n",
    "root_xml = minidom.parseString(response.read())\n",
    "response.close()\n",
    "\n",
    "# Construct BaseURL\n",
    "base_url_elem = root_xml.getElementsByTagName('URLBase')\n",
    "if base_url_elem:\n",
    "    base_url = XMLGetNodeText(base_url_elem[0]).rstrip('/')\n",
    "else:\n",
    "    url = urlparse(location)\n",
    "    base_url = '%s://%s' % (url.scheme, url.netloc)\n",
    "\n",
    "# Output Service info\n",
    "for node in root_xml.getElementsByTagName('service'):\n",
    "    service_type = XMLGetNodeText(node.getElementsByTagName('serviceType')[0])\n",
    "    control_url = '%s%s' % (\n",
    "        base_url,\n",
    "        XMLGetNodeText(node.getElementsByTagName('controlURL')[0])\n",
    "    )\n",
    "    scpd_url = '%s%s' % (\n",
    "        base_url,\n",
    "        XMLGetNodeText(node.getElementsByTagName('SCPDURL')[0])\n",
    "    )\n",
    "    print('%s:\\n  SCPD_URL: %s\\n  CTRL_URL: %s\\n' % (service_type,\n",
    "                                                     scpd_url,\n",
    "                                                     control_url))"
   ]
  },
  {
   "cell_type": "markdown",
   "metadata": {},
   "source": [
    "## SCPD, Phase II: Service SCPD files"
   ]
  },
  {
   "cell_type": "code",
   "execution_count": null,
   "metadata": {
    "collapsed": true
   },
   "outputs": [],
   "source": []
  }
 ],
 "metadata": {
  "kernelspec": {
   "display_name": "Python 3",
   "language": "python",
   "name": "python3"
  },
  "language_info": {
   "codemirror_mode": {
    "name": "ipython",
    "version": 3
   },
   "file_extension": ".py",
   "mimetype": "text/x-python",
   "name": "python",
   "nbconvert_exporter": "python",
   "pygments_lexer": "ipython3",
   "version": "3.5.3"
  },
  "toc": {
   "colors": {
    "hover_highlight": "#DAA520",
    "running_highlight": "#FF0000",
    "selected_highlight": "#FFD700"
   },
   "moveMenuLeft": true,
   "nav_menu": {
    "height": "12px",
    "width": "252px"
   },
   "navigate_menu": true,
   "number_sections": true,
   "sideBar": true,
   "threshold": 4,
   "toc_cell": false,
   "toc_section_display": "block",
   "toc_window_display": true
  }
 },
 "nbformat": 4,
 "nbformat_minor": 2
}
